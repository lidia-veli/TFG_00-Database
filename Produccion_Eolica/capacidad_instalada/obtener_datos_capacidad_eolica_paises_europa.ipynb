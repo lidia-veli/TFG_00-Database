{
 "cells": [
  {
   "cell_type": "code",
   "execution_count": 1,
   "id": "6dc4bdae",
   "metadata": {},
   "outputs": [],
   "source": [
    "import pandas as pd"
   ]
  },
  {
   "cell_type": "code",
   "execution_count": 22,
   "id": "011da928",
   "metadata": {},
   "outputs": [
    {
     "data": {
      "text/html": [
       "<div>\n",
       "<style scoped>\n",
       "    .dataframe tbody tr th:only-of-type {\n",
       "        vertical-align: middle;\n",
       "    }\n",
       "\n",
       "    .dataframe tbody tr th {\n",
       "        vertical-align: top;\n",
       "    }\n",
       "\n",
       "    .dataframe thead th {\n",
       "        text-align: right;\n",
       "    }\n",
       "</style>\n",
       "<table border=\"1\" class=\"dataframe\">\n",
       "  <thead>\n",
       "    <tr style=\"text-align: right;\">\n",
       "      <th></th>\n",
       "      <th>Entity</th>\n",
       "      <th>Code</th>\n",
       "      <th>Year</th>\n",
       "      <th>Wind capacity (total) (GW)</th>\n",
       "    </tr>\n",
       "  </thead>\n",
       "  <tbody>\n",
       "    <tr>\n",
       "      <th>0</th>\n",
       "      <td>Afghanistan</td>\n",
       "      <td>AFG</td>\n",
       "      <td>2012</td>\n",
       "      <td>0.0001</td>\n",
       "    </tr>\n",
       "    <tr>\n",
       "      <th>1</th>\n",
       "      <td>Afghanistan</td>\n",
       "      <td>AFG</td>\n",
       "      <td>2013</td>\n",
       "      <td>0.0001</td>\n",
       "    </tr>\n",
       "    <tr>\n",
       "      <th>2</th>\n",
       "      <td>Afghanistan</td>\n",
       "      <td>AFG</td>\n",
       "      <td>2014</td>\n",
       "      <td>0.0001</td>\n",
       "    </tr>\n",
       "    <tr>\n",
       "      <th>3</th>\n",
       "      <td>Afghanistan</td>\n",
       "      <td>AFG</td>\n",
       "      <td>2015</td>\n",
       "      <td>0.0001</td>\n",
       "    </tr>\n",
       "    <tr>\n",
       "      <th>4</th>\n",
       "      <td>Afghanistan</td>\n",
       "      <td>AFG</td>\n",
       "      <td>2016</td>\n",
       "      <td>0.0001</td>\n",
       "    </tr>\n",
       "  </tbody>\n",
       "</table>\n",
       "</div>"
      ],
      "text/plain": [
       "        Entity Code  Year  Wind capacity (total) (GW)\n",
       "0  Afghanistan  AFG  2012                      0.0001\n",
       "1  Afghanistan  AFG  2013                      0.0001\n",
       "2  Afghanistan  AFG  2014                      0.0001\n",
       "3  Afghanistan  AFG  2015                      0.0001\n",
       "4  Afghanistan  AFG  2016                      0.0001"
      ]
     },
     "execution_count": 22,
     "metadata": {},
     "output_type": "execute_result"
    }
   ],
   "source": [
    "data = pd.read_csv('cumulative-installed-wind-energy-capacity-gigawatts.csv')\n",
    "data.head()"
   ]
  },
  {
   "cell_type": "markdown",
   "id": "370d5141",
   "metadata": {},
   "source": [
    "## Paises interés"
   ]
  },
  {
   "cell_type": "code",
   "execution_count": 23,
   "id": "9e1615dc",
   "metadata": {},
   "outputs": [
    {
     "data": {
      "text/html": [
       "<div>\n",
       "<style scoped>\n",
       "    .dataframe tbody tr th:only-of-type {\n",
       "        vertical-align: middle;\n",
       "    }\n",
       "\n",
       "    .dataframe tbody tr th {\n",
       "        vertical-align: top;\n",
       "    }\n",
       "\n",
       "    .dataframe thead th {\n",
       "        text-align: right;\n",
       "    }\n",
       "</style>\n",
       "<table border=\"1\" class=\"dataframe\">\n",
       "  <thead>\n",
       "    <tr style=\"text-align: right;\">\n",
       "      <th></th>\n",
       "      <th>Entity</th>\n",
       "      <th>Code</th>\n",
       "      <th>Year</th>\n",
       "      <th>Wind capacity (total) (GW)</th>\n",
       "    </tr>\n",
       "  </thead>\n",
       "  <tbody>\n",
       "    <tr>\n",
       "      <th>152</th>\n",
       "      <td>Austria</td>\n",
       "      <td>AUT</td>\n",
       "      <td>2000</td>\n",
       "      <td>0.050</td>\n",
       "    </tr>\n",
       "    <tr>\n",
       "      <th>153</th>\n",
       "      <td>Austria</td>\n",
       "      <td>AUT</td>\n",
       "      <td>2001</td>\n",
       "      <td>0.067</td>\n",
       "    </tr>\n",
       "    <tr>\n",
       "      <th>154</th>\n",
       "      <td>Austria</td>\n",
       "      <td>AUT</td>\n",
       "      <td>2002</td>\n",
       "      <td>0.109</td>\n",
       "    </tr>\n",
       "    <tr>\n",
       "      <th>155</th>\n",
       "      <td>Austria</td>\n",
       "      <td>AUT</td>\n",
       "      <td>2003</td>\n",
       "      <td>0.322</td>\n",
       "    </tr>\n",
       "    <tr>\n",
       "      <th>156</th>\n",
       "      <td>Austria</td>\n",
       "      <td>AUT</td>\n",
       "      <td>2004</td>\n",
       "      <td>0.581</td>\n",
       "    </tr>\n",
       "    <tr>\n",
       "      <th>...</th>\n",
       "      <td>...</td>\n",
       "      <td>...</td>\n",
       "      <td>...</td>\n",
       "      <td>...</td>\n",
       "    </tr>\n",
       "    <tr>\n",
       "      <th>2651</th>\n",
       "      <td>Switzerland</td>\n",
       "      <td>CHE</td>\n",
       "      <td>2019</td>\n",
       "      <td>0.075</td>\n",
       "    </tr>\n",
       "    <tr>\n",
       "      <th>2652</th>\n",
       "      <td>Switzerland</td>\n",
       "      <td>CHE</td>\n",
       "      <td>2020</td>\n",
       "      <td>0.087</td>\n",
       "    </tr>\n",
       "    <tr>\n",
       "      <th>2653</th>\n",
       "      <td>Switzerland</td>\n",
       "      <td>CHE</td>\n",
       "      <td>2021</td>\n",
       "      <td>0.087</td>\n",
       "    </tr>\n",
       "    <tr>\n",
       "      <th>2654</th>\n",
       "      <td>Switzerland</td>\n",
       "      <td>CHE</td>\n",
       "      <td>2022</td>\n",
       "      <td>0.087</td>\n",
       "    </tr>\n",
       "    <tr>\n",
       "      <th>2655</th>\n",
       "      <td>Switzerland</td>\n",
       "      <td>CHE</td>\n",
       "      <td>2023</td>\n",
       "      <td>0.087</td>\n",
       "    </tr>\n",
       "  </tbody>\n",
       "</table>\n",
       "<p>211 rows × 4 columns</p>\n",
       "</div>"
      ],
      "text/plain": [
       "           Entity Code  Year  Wind capacity (total) (GW)\n",
       "152       Austria  AUT  2000                       0.050\n",
       "153       Austria  AUT  2001                       0.067\n",
       "154       Austria  AUT  2002                       0.109\n",
       "155       Austria  AUT  2003                       0.322\n",
       "156       Austria  AUT  2004                       0.581\n",
       "...           ...  ...   ...                         ...\n",
       "2651  Switzerland  CHE  2019                       0.075\n",
       "2652  Switzerland  CHE  2020                       0.087\n",
       "2653  Switzerland  CHE  2021                       0.087\n",
       "2654  Switzerland  CHE  2022                       0.087\n",
       "2655  Switzerland  CHE  2023                       0.087\n",
       "\n",
       "[211 rows x 4 columns]"
      ]
     },
     "execution_count": 23,
     "metadata": {},
     "output_type": "execute_result"
    }
   ],
   "source": [
    "paises_interes = ['Austria', 'Switzerland', 'Germany', 'France', 'Spain', 'Portugal', 'Sweden', 'Finland', 'Romania']\n",
    "df_paises = data[ (data['Entity'].isin(paises_interes)) ]\n",
    "df_paises"
   ]
  },
  {
   "cell_type": "code",
   "execution_count": 25,
   "id": "90ed9d05",
   "metadata": {},
   "outputs": [
    {
     "data": {
      "text/html": [
       "<div>\n",
       "<style scoped>\n",
       "    .dataframe tbody tr th:only-of-type {\n",
       "        vertical-align: middle;\n",
       "    }\n",
       "\n",
       "    .dataframe tbody tr th {\n",
       "        vertical-align: top;\n",
       "    }\n",
       "\n",
       "    .dataframe thead th {\n",
       "        text-align: right;\n",
       "    }\n",
       "</style>\n",
       "<table border=\"1\" class=\"dataframe\">\n",
       "  <thead>\n",
       "    <tr style=\"text-align: right;\">\n",
       "      <th></th>\n",
       "      <th>Entity</th>\n",
       "      <th>Code</th>\n",
       "      <th>Year</th>\n",
       "      <th>Wind capacity (total) (GW)</th>\n",
       "      <th>Wind_capacity_total_MW</th>\n",
       "    </tr>\n",
       "  </thead>\n",
       "  <tbody>\n",
       "    <tr>\n",
       "      <th>152</th>\n",
       "      <td>Austria</td>\n",
       "      <td>AUT</td>\n",
       "      <td>2000</td>\n",
       "      <td>0.050</td>\n",
       "      <td>50.000000</td>\n",
       "    </tr>\n",
       "    <tr>\n",
       "      <th>153</th>\n",
       "      <td>Austria</td>\n",
       "      <td>AUT</td>\n",
       "      <td>2001</td>\n",
       "      <td>0.067</td>\n",
       "      <td>67.000000</td>\n",
       "    </tr>\n",
       "    <tr>\n",
       "      <th>154</th>\n",
       "      <td>Austria</td>\n",
       "      <td>AUT</td>\n",
       "      <td>2002</td>\n",
       "      <td>0.109</td>\n",
       "      <td>109.000005</td>\n",
       "    </tr>\n",
       "    <tr>\n",
       "      <th>155</th>\n",
       "      <td>Austria</td>\n",
       "      <td>AUT</td>\n",
       "      <td>2003</td>\n",
       "      <td>0.322</td>\n",
       "      <td>322.000030</td>\n",
       "    </tr>\n",
       "    <tr>\n",
       "      <th>156</th>\n",
       "      <td>Austria</td>\n",
       "      <td>AUT</td>\n",
       "      <td>2004</td>\n",
       "      <td>0.581</td>\n",
       "      <td>581.000030</td>\n",
       "    </tr>\n",
       "  </tbody>\n",
       "</table>\n",
       "</div>"
      ],
      "text/plain": [
       "      Entity Code  Year  Wind capacity (total) (GW)  Wind_capacity_total_MW\n",
       "152  Austria  AUT  2000                       0.050               50.000000\n",
       "153  Austria  AUT  2001                       0.067               67.000000\n",
       "154  Austria  AUT  2002                       0.109              109.000005\n",
       "155  Austria  AUT  2003                       0.322              322.000030\n",
       "156  Austria  AUT  2004                       0.581              581.000030"
      ]
     },
     "execution_count": 25,
     "metadata": {},
     "output_type": "execute_result"
    }
   ],
   "source": [
    "# transformar la capacidad de GW a MW\n",
    "df_paises_MW = df_paises.copy()\n",
    "df_paises_MW['Wind_capacity_total_MW'] = df_paises_MW['Wind capacity (total) (GW)'] *1000\n",
    "df_paises_MW.head()"
   ]
  },
  {
   "cell_type": "code",
   "execution_count": 34,
   "id": "8593bb31",
   "metadata": {},
   "outputs": [],
   "source": [
    "df_paises_MW.to_csv('Capacidad_Instalada_Paises_Interes_MW_2000_2023.csv')"
   ]
  },
  {
   "cell_type": "markdown",
   "id": "237438f1",
   "metadata": {},
   "source": [
    "## Todos países europa"
   ]
  },
  {
   "cell_type": "code",
   "execution_count": 40,
   "id": "3c90a4a3",
   "metadata": {},
   "outputs": [
    {
     "name": "stdout",
     "output_type": "stream",
     "text": [
      "31\n",
      "['Austria', 'Belgium', 'Bulgaria', 'Croatia', 'Cyprus', 'Denmark', 'Estonia', 'Europe', 'European Union (27)', 'Finland', 'France', 'Germany', 'Greece', 'Hungary', 'Iceland', 'Ireland', 'Italy', 'Latvia', 'Lithuania', 'Luxembourg', 'Malta', 'Netherlands', 'Norway', 'Poland', 'Portugal', 'Romania', 'Slovakia', 'Slovenia', 'Spain', 'Sweden', 'Switzerland', 'United Kingdom']\n",
      "32\n"
     ]
    }
   ],
   "source": [
    "paises_eu = [\n",
    "    \"Austria\", \"Belgium\", \"Bulgaria\", \"Croatia\", \"Cyprus\", \"Czech Republic\",\n",
    "    \"Denmark\", \"Estonia\", \"Finland\", \"France\", \"Germany\", \"Greece\", \"Hungary\",\n",
    "    \"Ireland\", \"Italy\", \"Latvia\", \"Lithuania\", \"Luxembourg\", \"Malta\",\n",
    "    \"Netherlands\", \"Poland\", \"Portugal\", \"Romania\", \"Slovakia\", \"Slovenia\",\n",
    "    \"Spain\", \"Sweden\", \"Norway\", \"Switzerland\", \"Iceland\", \"United Kingdom\"\n",
    "]\n",
    "print(len(paises_eu))\n",
    "\n",
    "df_eu = data[ data['Entity'].isin( paises_eu+[\"Europe\",\"European Union (27)\"] ) ]\n",
    "lista_eu = df_eu['Entity'].unique().tolist()\n",
    "print(lista_eu)\n",
    "print(len(lista_eu))"
   ]
  },
  {
   "cell_type": "code",
   "execution_count": 41,
   "id": "742057d2",
   "metadata": {},
   "outputs": [
    {
     "data": {
      "text/plain": [
       "['Czech Republic']"
      ]
     },
     "execution_count": 41,
     "metadata": {},
     "output_type": "execute_result"
    }
   ],
   "source": [
    "lista_paises_faltan = []\n",
    "for p in paises_eu:\n",
    "    if p not in lista_eu:\n",
    "        lista_paises_faltan.append(p)\n",
    "    else:\n",
    "        continue\n",
    "lista_paises_faltan"
   ]
  },
  {
   "cell_type": "markdown",
   "id": "531dc67f",
   "metadata": {},
   "source": [
    "FALTA ```'Czech Republic'```"
   ]
  },
  {
   "cell_type": "code",
   "execution_count": 35,
   "id": "eb86bea0",
   "metadata": {},
   "outputs": [],
   "source": [
    "dict_pais_codigo = {\n",
    "    'Austria': ['AT', 'AUT'],\n",
    "    'Belgium': ['BE', 'BEL'],\n",
    "    'Bulgaria': ['BG', 'BGR'],\n",
    "    'Croatia': ['HR', 'HRV'],\n",
    "    'Cyprus': ['CY', 'CYP'],\n",
    "    'Czech Republic': ['CZ', 'CZE'],\n",
    "    'Denmark': ['DK', 'DNK'],\n",
    "    'Estonia': ['EE', 'EST'],\n",
    "    'Finland': ['FI', 'FIN'],\n",
    "    'France': ['FR', 'FRA'],\n",
    "    'Germany': ['DE', 'DEU'],\n",
    "    'Greece': ['GR', 'GRC'],\n",
    "    'Hungary': ['HU', 'HUN'],\n",
    "    'Ireland': ['IE', 'IRL'],\n",
    "    'Italy': ['IT', 'ITA'],\n",
    "    'Latvia': ['LV', 'LVA'],\n",
    "    'Lithuania': ['LT', 'LTU'],\n",
    "    'Luxembourg': ['LU', 'LUX'],\n",
    "    'Malta': ['MT', 'MLT'],\n",
    "    'Netherlands': ['NL', 'NLD'],\n",
    "    'Poland': ['PL', 'POL'],\n",
    "    'Portugal': ['PT', 'PRT'],\n",
    "    'Romania': ['RO', 'ROU'],\n",
    "    'Slovakia': ['SK', 'SVK'],\n",
    "    'Slovenia': ['SI', 'SVN'],\n",
    "    'Spain': ['ES', 'ESP'],\n",
    "    'Sweden': ['SE', 'SWE'],\n",
    "    'Norway': ['NO', 'NOR'],\n",
    "    'Switzerland': ['CH', 'CHE'],\n",
    "    'Iceland': ['IS', 'ISL'],\n",
    "    'United Kingdom': ['GB', 'GBR']\n",
    "}"
   ]
  },
  {
   "cell_type": "code",
   "execution_count": 42,
   "id": "87f65e03",
   "metadata": {},
   "outputs": [],
   "source": [
    "# transformar la capacidad de GW a MW\n",
    "df_eu_MW = df_eu.copy()\n",
    "df_eu_MW['Wind_capacity_total_MW'] = df_eu_MW['Wind capacity (total) (GW)'] *1000\n",
    "\n",
    "df_eu_MW.to_csv('Capacidad_Instalada_Europa_MW_2000_2023.csv')\n",
    "\n"
   ]
  }
 ],
 "metadata": {
  "kernelspec": {
   "display_name": "Python 3",
   "language": "python",
   "name": "python3"
  },
  "language_info": {
   "codemirror_mode": {
    "name": "ipython",
    "version": 3
   },
   "file_extension": ".py",
   "mimetype": "text/x-python",
   "name": "python",
   "nbconvert_exporter": "python",
   "pygments_lexer": "ipython3",
   "version": "3.12.7"
  }
 },
 "nbformat": 4,
 "nbformat_minor": 5
}
