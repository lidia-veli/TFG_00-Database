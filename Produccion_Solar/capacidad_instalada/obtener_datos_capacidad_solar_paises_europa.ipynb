{
 "cells": [
  {
   "cell_type": "code",
   "execution_count": 1,
   "id": "6dc4bdae",
   "metadata": {},
   "outputs": [],
   "source": [
    "import pandas as pd"
   ]
  },
  {
   "cell_type": "code",
   "execution_count": 8,
   "id": "011da928",
   "metadata": {},
   "outputs": [
    {
     "data": {
      "text/html": [
       "<div>\n",
       "<style scoped>\n",
       "    .dataframe tbody tr th:only-of-type {\n",
       "        vertical-align: middle;\n",
       "    }\n",
       "\n",
       "    .dataframe tbody tr th {\n",
       "        vertical-align: top;\n",
       "    }\n",
       "\n",
       "    .dataframe thead th {\n",
       "        text-align: right;\n",
       "    }\n",
       "</style>\n",
       "<table border=\"1\" class=\"dataframe\">\n",
       "  <thead>\n",
       "    <tr style=\"text-align: right;\">\n",
       "      <th></th>\n",
       "      <th>Entity</th>\n",
       "      <th>Code</th>\n",
       "      <th>Year</th>\n",
       "      <th>Solar capacity (total) (GW)</th>\n",
       "    </tr>\n",
       "  </thead>\n",
       "  <tbody>\n",
       "    <tr>\n",
       "      <th>0</th>\n",
       "      <td>Afghanistan</td>\n",
       "      <td>AFG</td>\n",
       "      <td>2009</td>\n",
       "      <td>0.000002</td>\n",
       "    </tr>\n",
       "    <tr>\n",
       "      <th>1</th>\n",
       "      <td>Afghanistan</td>\n",
       "      <td>AFG</td>\n",
       "      <td>2010</td>\n",
       "      <td>0.000102</td>\n",
       "    </tr>\n",
       "    <tr>\n",
       "      <th>2</th>\n",
       "      <td>Afghanistan</td>\n",
       "      <td>AFG</td>\n",
       "      <td>2011</td>\n",
       "      <td>0.000120</td>\n",
       "    </tr>\n",
       "    <tr>\n",
       "      <th>3</th>\n",
       "      <td>Afghanistan</td>\n",
       "      <td>AFG</td>\n",
       "      <td>2012</td>\n",
       "      <td>0.016122</td>\n",
       "    </tr>\n",
       "    <tr>\n",
       "      <th>4</th>\n",
       "      <td>Afghanistan</td>\n",
       "      <td>AFG</td>\n",
       "      <td>2013</td>\n",
       "      <td>0.016843</td>\n",
       "    </tr>\n",
       "  </tbody>\n",
       "</table>\n",
       "</div>"
      ],
      "text/plain": [
       "        Entity Code  Year  Solar capacity (total) (GW)\n",
       "0  Afghanistan  AFG  2009                     0.000002\n",
       "1  Afghanistan  AFG  2010                     0.000102\n",
       "2  Afghanistan  AFG  2011                     0.000120\n",
       "3  Afghanistan  AFG  2012                     0.016122\n",
       "4  Afghanistan  AFG  2013                     0.016843"
      ]
     },
     "execution_count": 8,
     "metadata": {},
     "output_type": "execute_result"
    }
   ],
   "source": [
    "data = pd.read_csv('installed-solar-pv-capacity.csv')\n",
    "data.head()"
   ]
  },
  {
   "cell_type": "markdown",
   "id": "370d5141",
   "metadata": {},
   "source": [
    "## Paises interés"
   ]
  },
  {
   "cell_type": "code",
   "execution_count": 9,
   "id": "9e1615dc",
   "metadata": {},
   "outputs": [
    {
     "data": {
      "text/html": [
       "<div>\n",
       "<style scoped>\n",
       "    .dataframe tbody tr th:only-of-type {\n",
       "        vertical-align: middle;\n",
       "    }\n",
       "\n",
       "    .dataframe tbody tr th {\n",
       "        vertical-align: top;\n",
       "    }\n",
       "\n",
       "    .dataframe thead th {\n",
       "        text-align: right;\n",
       "    }\n",
       "</style>\n",
       "<table border=\"1\" class=\"dataframe\">\n",
       "  <thead>\n",
       "    <tr style=\"text-align: right;\">\n",
       "      <th></th>\n",
       "      <th>Entity</th>\n",
       "      <th>Code</th>\n",
       "      <th>Year</th>\n",
       "      <th>Solar capacity (total) (GW)</th>\n",
       "    </tr>\n",
       "  </thead>\n",
       "  <tbody>\n",
       "    <tr>\n",
       "      <th>230</th>\n",
       "      <td>Austria</td>\n",
       "      <td>AUT</td>\n",
       "      <td>2000</td>\n",
       "      <td>0.00500</td>\n",
       "    </tr>\n",
       "    <tr>\n",
       "      <th>231</th>\n",
       "      <td>Austria</td>\n",
       "      <td>AUT</td>\n",
       "      <td>2001</td>\n",
       "      <td>0.00700</td>\n",
       "    </tr>\n",
       "    <tr>\n",
       "      <th>232</th>\n",
       "      <td>Austria</td>\n",
       "      <td>AUT</td>\n",
       "      <td>2002</td>\n",
       "      <td>0.00900</td>\n",
       "    </tr>\n",
       "    <tr>\n",
       "      <th>233</th>\n",
       "      <td>Austria</td>\n",
       "      <td>AUT</td>\n",
       "      <td>2003</td>\n",
       "      <td>0.02300</td>\n",
       "    </tr>\n",
       "    <tr>\n",
       "      <th>234</th>\n",
       "      <td>Austria</td>\n",
       "      <td>AUT</td>\n",
       "      <td>2004</td>\n",
       "      <td>0.02700</td>\n",
       "    </tr>\n",
       "    <tr>\n",
       "      <th>...</th>\n",
       "      <td>...</td>\n",
       "      <td>...</td>\n",
       "      <td>...</td>\n",
       "      <td>...</td>\n",
       "    </tr>\n",
       "    <tr>\n",
       "      <th>3586</th>\n",
       "      <td>Switzerland</td>\n",
       "      <td>CHE</td>\n",
       "      <td>2019</td>\n",
       "      <td>2.49800</td>\n",
       "    </tr>\n",
       "    <tr>\n",
       "      <th>3587</th>\n",
       "      <td>Switzerland</td>\n",
       "      <td>CHE</td>\n",
       "      <td>2020</td>\n",
       "      <td>2.97300</td>\n",
       "    </tr>\n",
       "    <tr>\n",
       "      <th>3588</th>\n",
       "      <td>Switzerland</td>\n",
       "      <td>CHE</td>\n",
       "      <td>2021</td>\n",
       "      <td>3.65500</td>\n",
       "    </tr>\n",
       "    <tr>\n",
       "      <th>3589</th>\n",
       "      <td>Switzerland</td>\n",
       "      <td>CHE</td>\n",
       "      <td>2022</td>\n",
       "      <td>4.33992</td>\n",
       "    </tr>\n",
       "    <tr>\n",
       "      <th>3590</th>\n",
       "      <td>Switzerland</td>\n",
       "      <td>CHE</td>\n",
       "      <td>2023</td>\n",
       "      <td>5.83992</td>\n",
       "    </tr>\n",
       "  </tbody>\n",
       "</table>\n",
       "<p>208 rows × 4 columns</p>\n",
       "</div>"
      ],
      "text/plain": [
       "           Entity Code  Year  Solar capacity (total) (GW)\n",
       "230       Austria  AUT  2000                      0.00500\n",
       "231       Austria  AUT  2001                      0.00700\n",
       "232       Austria  AUT  2002                      0.00900\n",
       "233       Austria  AUT  2003                      0.02300\n",
       "234       Austria  AUT  2004                      0.02700\n",
       "...           ...  ...   ...                          ...\n",
       "3586  Switzerland  CHE  2019                      2.49800\n",
       "3587  Switzerland  CHE  2020                      2.97300\n",
       "3588  Switzerland  CHE  2021                      3.65500\n",
       "3589  Switzerland  CHE  2022                      4.33992\n",
       "3590  Switzerland  CHE  2023                      5.83992\n",
       "\n",
       "[208 rows x 4 columns]"
      ]
     },
     "execution_count": 9,
     "metadata": {},
     "output_type": "execute_result"
    }
   ],
   "source": [
    "paises_interes = ['Austria', 'Switzerland', 'Germany', 'France', 'Spain', 'Portugal', 'Sweden', 'Finland', 'Romania']\n",
    "df_paises = data[ (data['Entity'].isin(paises_interes)) ]\n",
    "df_paises"
   ]
  },
  {
   "cell_type": "code",
   "execution_count": 10,
   "id": "90ed9d05",
   "metadata": {},
   "outputs": [
    {
     "data": {
      "text/html": [
       "<div>\n",
       "<style scoped>\n",
       "    .dataframe tbody tr th:only-of-type {\n",
       "        vertical-align: middle;\n",
       "    }\n",
       "\n",
       "    .dataframe tbody tr th {\n",
       "        vertical-align: top;\n",
       "    }\n",
       "\n",
       "    .dataframe thead th {\n",
       "        text-align: right;\n",
       "    }\n",
       "</style>\n",
       "<table border=\"1\" class=\"dataframe\">\n",
       "  <thead>\n",
       "    <tr style=\"text-align: right;\">\n",
       "      <th></th>\n",
       "      <th>Entity</th>\n",
       "      <th>Code</th>\n",
       "      <th>Year</th>\n",
       "      <th>Solar capacity (total) (GW)</th>\n",
       "      <th>Solar_capacity_total_MW</th>\n",
       "    </tr>\n",
       "  </thead>\n",
       "  <tbody>\n",
       "    <tr>\n",
       "      <th>230</th>\n",
       "      <td>Austria</td>\n",
       "      <td>AUT</td>\n",
       "      <td>2000</td>\n",
       "      <td>0.005</td>\n",
       "      <td>5.000000</td>\n",
       "    </tr>\n",
       "    <tr>\n",
       "      <th>231</th>\n",
       "      <td>Austria</td>\n",
       "      <td>AUT</td>\n",
       "      <td>2001</td>\n",
       "      <td>0.007</td>\n",
       "      <td>7.000000</td>\n",
       "    </tr>\n",
       "    <tr>\n",
       "      <th>232</th>\n",
       "      <td>Austria</td>\n",
       "      <td>AUT</td>\n",
       "      <td>2002</td>\n",
       "      <td>0.009</td>\n",
       "      <td>9.000001</td>\n",
       "    </tr>\n",
       "    <tr>\n",
       "      <th>233</th>\n",
       "      <td>Austria</td>\n",
       "      <td>AUT</td>\n",
       "      <td>2003</td>\n",
       "      <td>0.023</td>\n",
       "      <td>23.000002</td>\n",
       "    </tr>\n",
       "    <tr>\n",
       "      <th>234</th>\n",
       "      <td>Austria</td>\n",
       "      <td>AUT</td>\n",
       "      <td>2004</td>\n",
       "      <td>0.027</td>\n",
       "      <td>27.000000</td>\n",
       "    </tr>\n",
       "  </tbody>\n",
       "</table>\n",
       "</div>"
      ],
      "text/plain": [
       "      Entity Code  Year  Solar capacity (total) (GW)  Solar_capacity_total_MW\n",
       "230  Austria  AUT  2000                        0.005                 5.000000\n",
       "231  Austria  AUT  2001                        0.007                 7.000000\n",
       "232  Austria  AUT  2002                        0.009                 9.000001\n",
       "233  Austria  AUT  2003                        0.023                23.000002\n",
       "234  Austria  AUT  2004                        0.027                27.000000"
      ]
     },
     "execution_count": 10,
     "metadata": {},
     "output_type": "execute_result"
    }
   ],
   "source": [
    "# transformar la capacidad de GW a MW\n",
    "df_paises_MW = df_paises.copy()\n",
    "df_paises_MW['Solar_capacity_total_MW'] = df_paises_MW['Solar capacity (total) (GW)'] *1000\n",
    "df_paises_MW.head()"
   ]
  },
  {
   "cell_type": "code",
   "execution_count": 19,
   "id": "8593bb31",
   "metadata": {},
   "outputs": [],
   "source": [
    "df_paises_MW.to_csv('Capacidad_Instalada_Paises_Interes_MW_2000_2023.csv', index=False)"
   ]
  },
  {
   "cell_type": "markdown",
   "id": "237438f1",
   "metadata": {},
   "source": [
    "## Todos países europa"
   ]
  },
  {
   "cell_type": "code",
   "execution_count": 12,
   "id": "3c90a4a3",
   "metadata": {},
   "outputs": [
    {
     "name": "stdout",
     "output_type": "stream",
     "text": [
      "# Paises Europa: 31\n",
      "['Austria', 'Belgium', 'Bulgaria', 'Croatia', 'Cyprus', 'Denmark', 'Estonia', 'Europe', 'European Union (27)', 'Finland', 'France', 'Germany', 'Greece', 'Hungary', 'Iceland', 'Ireland', 'Italy', 'Latvia', 'Lithuania', 'Luxembourg', 'Malta', 'Netherlands', 'Norway', 'Poland', 'Portugal', 'Romania', 'Slovakia', 'Slovenia', 'Spain', 'Sweden', 'Switzerland', 'United Kingdom']\n",
      "# Paises en datos: 30\n"
     ]
    }
   ],
   "source": [
    "paises_eu = [\n",
    "    \"Austria\", \"Belgium\", \"Bulgaria\", \"Croatia\", \"Cyprus\", \"Czech Republic\",\n",
    "    \"Denmark\", \"Estonia\", \"Finland\", \"France\", \"Germany\", \"Greece\", \"Hungary\",\n",
    "    \"Ireland\", \"Italy\", \"Latvia\", \"Lithuania\", \"Luxembourg\", \"Malta\",\n",
    "    \"Netherlands\", \"Poland\", \"Portugal\", \"Romania\", \"Slovakia\", \"Slovenia\",\n",
    "    \"Spain\", \"Sweden\", \"Norway\", \"Switzerland\", \"Iceland\", \"United Kingdom\"\n",
    "]\n",
    "print(f'# Paises Europa: {len(paises_eu)}')\n",
    "\n",
    "df_eu = data[ data['Entity'].isin( paises_eu+[\"Europe\",\"European Union (27)\"] ) ]\n",
    "lista_eu = df_eu['Entity'].unique().tolist()\n",
    "print(lista_eu)\n",
    "print(f'# Paises en datos: {len(lista_eu)-2}')"
   ]
  },
  {
   "cell_type": "code",
   "execution_count": 13,
   "id": "742057d2",
   "metadata": {},
   "outputs": [
    {
     "data": {
      "text/plain": [
       "['Czech Republic']"
      ]
     },
     "execution_count": 13,
     "metadata": {},
     "output_type": "execute_result"
    }
   ],
   "source": [
    "# veamos qué países europeos faltan\n",
    "lista_paises_faltan = []\n",
    "for p in paises_eu:\n",
    "    if p not in lista_eu:\n",
    "        lista_paises_faltan.append(p)\n",
    "    else:\n",
    "        continue\n",
    "lista_paises_faltan"
   ]
  },
  {
   "cell_type": "markdown",
   "id": "531dc67f",
   "metadata": {},
   "source": [
    "FALTA ```'Czech Republic'```"
   ]
  },
  {
   "cell_type": "code",
   "execution_count": 14,
   "id": "eb86bea0",
   "metadata": {},
   "outputs": [],
   "source": [
    "# diccionario de los países y sus códigos ISO 3166-1 alpha-2 y alpha-3\n",
    "dict_pais_codigo = {\n",
    "    'Austria': ['AT', 'AUT'],\n",
    "    'Belgium': ['BE', 'BEL'],\n",
    "    'Bulgaria': ['BG', 'BGR'],\n",
    "    'Croatia': ['HR', 'HRV'],\n",
    "    'Cyprus': ['CY', 'CYP'],\n",
    "    'Czech Republic': ['CZ', 'CZE'],\n",
    "    'Denmark': ['DK', 'DNK'],\n",
    "    'Estonia': ['EE', 'EST'],\n",
    "    'Finland': ['FI', 'FIN'],\n",
    "    'France': ['FR', 'FRA'],\n",
    "    'Germany': ['DE', 'DEU'],\n",
    "    'Greece': ['GR', 'GRC'],\n",
    "    'Hungary': ['HU', 'HUN'],\n",
    "    'Ireland': ['IE', 'IRL'],\n",
    "    'Italy': ['IT', 'ITA'],\n",
    "    'Latvia': ['LV', 'LVA'],\n",
    "    'Lithuania': ['LT', 'LTU'],\n",
    "    'Luxembourg': ['LU', 'LUX'],\n",
    "    'Malta': ['MT', 'MLT'],\n",
    "    'Netherlands': ['NL', 'NLD'],\n",
    "    'Poland': ['PL', 'POL'],\n",
    "    'Portugal': ['PT', 'PRT'],\n",
    "    'Romania': ['RO', 'ROU'],\n",
    "    'Slovakia': ['SK', 'SVK'],\n",
    "    'Slovenia': ['SI', 'SVN'],\n",
    "    'Spain': ['ES', 'ESP'],\n",
    "    'Sweden': ['SE', 'SWE'],\n",
    "    'Norway': ['NO', 'NOR'],\n",
    "    'Switzerland': ['CH', 'CHE'],\n",
    "    'Iceland': ['IS', 'ISL'],\n",
    "    'United Kingdom': ['GB', 'GBR']\n",
    "}"
   ]
  },
  {
   "cell_type": "code",
   "execution_count": 18,
   "id": "87f65e03",
   "metadata": {},
   "outputs": [],
   "source": [
    "# transformar la capacidad de GW a MW\n",
    "df_eu_MW = df_eu.copy()\n",
    "df_eu_MW['Solar_capacity_total_MW'] = df_eu_MW['Solar capacity (total) (GW)'] *1000\n",
    "\n",
    "df_eu_MW.to_csv('Capacidad_Instalada_Europa_MW_2000_2023.csv', index=False)\n",
    "\n"
   ]
  }
 ],
 "metadata": {
  "kernelspec": {
   "display_name": "analisis_datos_3.10",
   "language": "python",
   "name": "python3"
  },
  "language_info": {
   "codemirror_mode": {
    "name": "ipython",
    "version": 3
   },
   "file_extension": ".py",
   "mimetype": "text/x-python",
   "name": "python",
   "nbconvert_exporter": "python",
   "pygments_lexer": "ipython3",
   "version": "3.10.13"
  }
 },
 "nbformat": 4,
 "nbformat_minor": 5
}
